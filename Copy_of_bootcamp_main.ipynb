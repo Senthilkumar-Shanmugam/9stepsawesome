{
  "nbformat": 4,
  "nbformat_minor": 0,
  "metadata": {
    "colab": {
      "provenance": [],
      "include_colab_link": true
    },
    "kernelspec": {
      "name": "python3",
      "display_name": "Python 3"
    },
    "language_info": {
      "name": "python"
    }
  },
  "cells": [
    {
      "cell_type": "markdown",
      "metadata": {
        "id": "view-in-github",
        "colab_type": "text"
      },
      "source": [
        "<a href=\"https://colab.research.google.com/github/Senthilkumar-Shanmugam/9stepsawesome/blob/master/Copy_of_bootcamp_main.ipynb\" target=\"_parent\"><img src=\"https://colab.research.google.com/assets/colab-badge.svg\" alt=\"Open In Colab\"/></a>"
      ]
    },
    {
      "cell_type": "markdown",
      "source": [
        "# Welcome to the Data Science Bootcamp with Python, Pandas, and Plotly!\n",
        "\n",
        "Use this notebook to get set up for the bootcamp. It downloads the labs and extracts them into your Google Drive so you can keep your work saved after the bootcamp is over.\n",
        "\n",
        "To use this notebook, run the cells from top to bottom. The code will automatically download all available labs into a Google Drive folder called `oreilly-data-science-bootcamp`. (If a lab is already downloaded, the code won't download it again to avoid overriding your work.)\n",
        "\n",
        "Then, you can open your GDrive (https://drive.google.com), open the `oreilly-data-science-bootcamp` folder, then open the lab for the day."
      ],
      "metadata": {
        "id": "Sn-8RkGdjqd6"
      }
    },
    {
      "cell_type": "code",
      "source": [
        "# Give this notebook access to your GDrive\n",
        "from google.colab import drive\n",
        "drive.mount('/content/gdrive')"
      ],
      "metadata": {
        "id": "P6gYHYCzkZty",
        "colab": {
          "base_uri": "https://localhost:8080/"
        },
        "outputId": "18f2318e-7fe5-4821-e5bf-4460cb3b6d10"
      },
      "execution_count": null,
      "outputs": [
        {
          "output_type": "stream",
          "name": "stdout",
          "text": [
            "Drive already mounted at /content/gdrive; to attempt to forcibly remount, call drive.mount(\"/content/gdrive\", force_remount=True).\n"
          ]
        }
      ]
    },
    {
      "cell_type": "code",
      "source": [
        "# Download bootcamp files\n",
        "%cd /content/gdrive/MyDrive\n",
        "!git clone https://github.com/DS-100/oreilly-bootcamp .tmp-repo\n",
        "!mkdir -p 'oreilly-data-science-bootcamp'"
      ],
      "metadata": {
        "id": "NteGY5Lck9LK",
        "colab": {
          "base_uri": "https://localhost:8080/"
        },
        "outputId": "d9708486-5092-4034-9a18-a24549883d5f"
      },
      "execution_count": null,
      "outputs": [
        {
          "output_type": "stream",
          "name": "stdout",
          "text": [
            "/content/gdrive/MyDrive\n",
            "Cloning into '.tmp-repo'...\n",
            "remote: Enumerating objects: 198, done.\u001b[K\n",
            "remote: Counting objects: 100% (198/198), done.\u001b[K\n",
            "remote: Compressing objects: 100% (129/129), done.\u001b[K\n",
            "remote: Total 198 (delta 75), reused 136 (delta 38), pack-reused 0\u001b[K\n",
            "Receiving objects: 100% (198/198), 10.34 MiB | 5.26 MiB/s, done.\n",
            "Resolving deltas: 100% (75/75), done.\n"
          ]
        }
      ]
    },
    {
      "cell_type": "code",
      "source": [
        "# Extract labs\n",
        "from pathlib import Path\n",
        "\n",
        "repo = Path('.tmp-repo')\n",
        "dest = Path('oreilly-data-science-bootcamp')\n",
        "labs = ['lab01', 'lab02', 'lab03', 'lab04']\n",
        "for lab in labs:\n",
        "  repo_path = repo / lab / f'{lab}.ipynb'\n",
        "  repo_sol_path = repo / 'src' / lab / f'{lab}.ipynb'\n",
        "  dest_path = dest / f'{lab}.ipynb'\n",
        "  dest_sol_path = dest / f'{lab}-solutions.ipynb'\n",
        "  if dest_path.exists():\n",
        "    print(f'{dest_path} exists, skipping.')\n",
        "    continue\n",
        "  if repo_path.exists():\n",
        "    !cp -r {repo_path} {dest_path}\n",
        "    print(f'{dest_path} created.')\n",
        "  if repo_sol_path.exists():\n",
        "    !cp -r {repo_sol_path} {dest_sol_path}\n",
        "    print(f'{dest_sol_path} created.')"
      ],
      "metadata": {
        "id": "25KeepYZrC1h",
        "colab": {
          "base_uri": "https://localhost:8080/"
        },
        "outputId": "8d49f1f2-8995-4177-82a2-f98048caccf1"
      },
      "execution_count": null,
      "outputs": [
        {
          "output_type": "stream",
          "name": "stdout",
          "text": [
            "oreilly-data-science-bootcamp/lab01.ipynb exists, skipping.\n",
            "oreilly-data-science-bootcamp/lab02.ipynb exists, skipping.\n",
            "oreilly-data-science-bootcamp/lab03.ipynb exists, skipping.\n",
            "oreilly-data-science-bootcamp/lab04.ipynb exists, skipping.\n"
          ]
        }
      ]
    },
    {
      "cell_type": "code",
      "source": [
        "# Clean up temp files\n",
        "!rm -rf .tmp-repo"
      ],
      "metadata": {
        "id": "uL43oDWVsm9z"
      },
      "execution_count": null,
      "outputs": []
    },
    {
      "cell_type": "code",
      "source": [],
      "metadata": {
        "id": "AvwL_giQbACJ"
      },
      "execution_count": null,
      "outputs": []
    }
  ]
}